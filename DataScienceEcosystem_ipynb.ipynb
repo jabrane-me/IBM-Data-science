{
  "nbformat": 4,
  "nbformat_minor": 0,
  "metadata": {
    "colab": {
      "provenance": []
    },
    "kernelspec": {
      "name": "python3",
      "display_name": "Python 3"
    },
    "language_info": {
      "name": "python"
    }
  },
  "cells": [
    {
      "cell_type": "markdown",
      "source": [
        "# Data Science Tools and Ecosystem"
      ],
      "metadata": {
        "id": "rsjNaXvax4xN"
      }
    },
    {
      "cell_type": "markdown",
      "source": [
        "In this notebook, Data Science Tools and Ecosystem are summarized."
      ],
      "metadata": {
        "id": "4LJwv116yCrO"
      }
    },
    {
      "cell_type": "markdown",
      "source": [
        "Some of the popular languages that Data Scientists use are:\n",
        "\n",
        "\n",
        "1.   Python\n",
        "2.   R\n",
        "3. Julia\n",
        "4. SQL\n",
        "5. Scala\n",
        "\n"
      ],
      "metadata": {
        "id": "zbX6A0YvyKaQ"
      }
    },
    {
      "cell_type": "markdown",
      "source": [
        "Some of the commonly used libraries used by Data Scientists include:\n",
        "\n",
        "\n",
        "1.   Scikit-learn\n",
        "2.   Pandas\n",
        "3. Numpy\n",
        "4. seaborn\n",
        "5. Matplotlib\n",
        "\n"
      ],
      "metadata": {
        "id": "5ax4JUGHysPq"
      }
    },
    {
      "cell_type": "markdown",
      "source": [
        "three development environment open source tools used in data science.\n",
        "\n",
        "| Data Science Tools |\n",
        "| ----------------- |\n",
        "| Jupyter Notebooks           |\n",
        "| Apache Spark           |\n",
        "| Apache Hadoop            |\n"
      ],
      "metadata": {
        "id": "ixxUr6yUzXyD"
      }
    },
    {
      "cell_type": "markdown",
      "source": [
        "<h3>Below are a few examples of evaluating arithmetic expressions in Python."
      ],
      "metadata": {
        "id": "1oKsfIOM0NkE"
      }
    },
    {
      "cell_type": "code",
      "execution_count": 1,
      "metadata": {
        "colab": {
          "base_uri": "https://localhost:8080/"
        },
        "id": "Z3cvL-D9xzW6",
        "outputId": "1b5cff92-ca88-4045-bf18-171376bb646d"
      },
      "outputs": [
        {
          "output_type": "execute_result",
          "data": {
            "text/plain": [
              "17"
            ]
          },
          "metadata": {},
          "execution_count": 1
        }
      ],
      "source": [
        "#Below are a few examples of evaluating arithmetic expressions in Python\n",
        "(3*4)+5"
      ]
    },
    {
      "cell_type": "code",
      "source": [
        "#This will convert 200 minutes to hours by diving by 60\n",
        "200/60"
      ],
      "metadata": {
        "colab": {
          "base_uri": "https://localhost:8080/"
        },
        "id": "AOKZIb7B0k-6",
        "outputId": "3121f530-59b7-4d87-c5f6-c38c76886cb8"
      },
      "execution_count": 2,
      "outputs": [
        {
          "output_type": "execute_result",
          "data": {
            "text/plain": [
              "3.3333333333333335"
            ]
          },
          "metadata": {},
          "execution_count": 2
        }
      ]
    },
    {
      "cell_type": "markdown",
      "source": [
        "Objectives:\n",
        "\n",
        "\n",
        "*   List popular languages for Data Science\n",
        "*   List commonly used libraries used by Data Scientists\n",
        "* List three development environment open source tools used in data science\n",
        "\n"
      ],
      "metadata": {
        "id": "3wfdKldN078H"
      }
    },
    {
      "cell_type": "markdown",
      "source": [
        "Author:\n",
        "<h2>JABRANE MERIZAK"
      ],
      "metadata": {
        "id": "_CRbJH_v1bTr"
      }
    }
  ]
}