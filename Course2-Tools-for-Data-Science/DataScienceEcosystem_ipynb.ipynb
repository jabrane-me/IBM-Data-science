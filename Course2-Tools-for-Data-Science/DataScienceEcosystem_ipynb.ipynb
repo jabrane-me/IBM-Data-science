{
  "cells": [
    {
      "cell_type": "markdown",
      "metadata": {
        "id": "rsjNaXvax4xN"
      },
      "source": [
        "<h1>Data Science Tools and Ecosystem"
      ]
    },
    {
      "cell_type": "markdown",
      "metadata": {
        "id": "4LJwv116yCrO"
      },
      "source": [
        "In this notebook, Data Science Tools and Ecosystem are summarized."
      ]
    },
    {
      "cell_type": "markdown",
      "metadata": {
        "id": "zbX6A0YvyKaQ"
      },
      "source": [
        "Some of the popular languages that Data Scientists use are:\n",
        "\n",
        "\n",
        "1.   Python\n",
        "2.   R\n",
        "3. Julia\n",
        "4. SQL\n",
        "5. Scala\n",
        "\n"
      ]
    },
    {
      "cell_type": "markdown",
      "metadata": {
        "id": "5ax4JUGHysPq"
      },
      "source": [
        "Some of the commonly used libraries used by Data Scientists include:\n",
        "\n",
        "\n",
        "1.   Scikit-learn\n",
        "2.   Pandas\n",
        "3. Numpy\n",
        "4. seaborn\n",
        "5. Matplotlib\n",
        "\n"
      ]
    },
    {
      "cell_type": "markdown",
      "metadata": {
        "id": "ixxUr6yUzXyD"
      },
      "source": [
        "three development environment open source tools used in data science.\n",
        "\n",
        "| Data Science Tools |\n",
        "| ----------------- |\n",
        "| Jupyter Notebooks           |\n",
        "| Apache Spark           |\n",
        "| Apache Hadoop            |\n"
      ]
    },
    {
      "cell_type": "markdown",
      "metadata": {
        "id": "1oKsfIOM0NkE"
      },
      "source": [
        "<h3>Below are a few examples of evaluating arithmetic expressions in Python."
      ]
    },
    {
      "cell_type": "code",
      "execution_count": 1,
      "metadata": {
        "colab": {
          "base_uri": "https://localhost:8080/"
        },
        "id": "Z3cvL-D9xzW6",
        "outputId": "1b5cff92-ca88-4045-bf18-171376bb646d"
      },
      "outputs": [
        {
          "data": {
            "text/plain": [
              "17"
            ]
          },
          "execution_count": 1,
          "metadata": {},
          "output_type": "execute_result"
        }
      ],
      "source": [
        "#Below are a few examples of evaluating arithmetic expressions in Python\n",
        "(3*4)+5"
      ]
    },
    {
      "cell_type": "code",
      "execution_count": 2,
      "metadata": {
        "colab": {
          "base_uri": "https://localhost:8080/"
        },
        "id": "AOKZIb7B0k-6",
        "outputId": "3121f530-59b7-4d87-c5f6-c38c76886cb8"
      },
      "outputs": [
        {
          "data": {
            "text/plain": [
              "3.3333333333333335"
            ]
          },
          "execution_count": 2,
          "metadata": {},
          "output_type": "execute_result"
        }
      ],
      "source": [
        "#This will convert 200 minutes to hours by diving by 60\n",
        "200/60"
      ]
    },
    {
      "cell_type": "markdown",
      "metadata": {
        "id": "3wfdKldN078H"
      },
      "source": [
        "Objectives:\n",
        "\n",
        "\n",
        "* Add Comment to code cells\n",
        "* Create markdown Cells\n",
        "*   List popular languages for Data Science\n",
        "*   List commonly used libraries used by Data Scientists\n",
        "* List three development environment open source tools used in data science\n",
        "\n"
      ]
    },
    {
      "cell_type": "markdown",
      "metadata": {
        "id": "_CRbJH_v1bTr"
      },
      "source": [
        "<h2>Author:</h2>\n",
        "\n",
        "JABRANE MERIZAK"
      ]
    }
  ],
  "metadata": {
    "colab": {
      "provenance": []
    },
    "kernelspec": {
      "display_name": "Python 3",
      "name": "python3"
    },
    "language_info": {
      "name": "python"
    }
  },
  "nbformat": 4,
  "nbformat_minor": 0
}
